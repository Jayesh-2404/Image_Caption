{
 "cells": [
  {
   "cell_type": "code",
   "execution_count": null,
   "id": "666aab9b-6cad-4e5b-8fd0-a0fcb70af758",
   "metadata": {},
   "outputs": [],
   "source": [
    "import torch \n",
    "import torch.nn as nn\n",
    "import torch.nn.functional as F\n",
    "\n",
    "class EncoderCNN(nn.module):\n",
    "    def __init__(self):\n",
    "        super(EncoderCNN , self ).__init__()\n",
    "    #Define the first convolutional layer\n",
    "    self.conv1 = nn.Conv2d(int_channels =  3 , out_channels = 16  , kernel_size = 3 , stride = 1, padding =1)\n",
    "    self.conv2 = nn.Conv2d(in_channels = 16 , out_channels = 32 , kernel_size = 3 , stride= 1, padding =1 )\n",
    "    self.conv3 = nn.Conv2d(in_channels = 32 , out_channels = 64 , kernel_size = 3 , stride= 1, padding =1 )\n",
    "    self.fc =nn.linear(64*8*8 , 10)\n",
    "\n",
    "    def forward(self , x):\n",
    "\n",
    "        x = F.relu(self.conv1(x))\n",
    "        x = F.max_pool2d(x , kernel_size = 2 , stride = 2)\n",
    "        x = F.relu(self.conv2(x))\n",
    "        x = F.ma"
   ]
  }
 ],
 "metadata": {
  "kernelspec": {
   "display_name": "Python 3 (ipykernel)",
   "language": "python",
   "name": "python3"
  },
  "language_info": {
   "codemirror_mode": {
    "name": "ipython",
    "version": 3
   },
   "file_extension": ".py",
   "mimetype": "text/x-python",
   "name": "python",
   "nbconvert_exporter": "python",
   "pygments_lexer": "ipython3",
   "version": "3.11.7"
  }
 },
 "nbformat": 4,
 "nbformat_minor": 5
}
